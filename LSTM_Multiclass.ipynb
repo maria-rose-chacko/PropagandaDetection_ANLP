{
 "cells": [
  {
   "cell_type": "code",
   "execution_count": 22,
   "metadata": {},
   "outputs": [],
   "source": [
    "import numpy as np\n",
    "import pandas as pd\n",
    "from gensim.models.word2vec import Word2Vec\n",
    "from sklearn.model_selection import train_test_split\n",
    "from keras.utils import to_categorical\n",
    "from keras.layers import Dense, Dropout, Conv1D, MaxPool1D, GlobalMaxPool1D, Embedding, Activation\n",
    "from sklearn import preprocessing\n",
    "from keras.preprocessing.text import Tokenizer\n",
    "from keras_preprocessing.sequence import pad_sequences\n",
    "from keras.models import Sequential\n",
    "import re\n",
    "import nltk\n",
    "from nltk.corpus import stopwords\n",
    "from sklearn.svm import SVC\n",
    "from sklearn.linear_model import LogisticRegression\n",
    "from sklearn.metrics import classification_report\n"
   ]
  },
  {
   "cell_type": "code",
   "execution_count": 23,
   "metadata": {},
   "outputs": [],
   "source": [
    "import os,random,math\n",
    "TRAINING_DIR=\"propaganda_dataset_v2\"\n",
    "\n",
    "files=os.listdir(TRAINING_DIR)\n",
    "#since we have just two files we dont need loops\n",
    "traindf= pd.read_csv(os.path.join(TRAINING_DIR,files[0]),sep = '\\t')\n",
    "testdf= pd.read_csv(os.path.join(TRAINING_DIR,files[1]),sep = '\\t')"
   ]
  },
  {
   "cell_type": "code",
   "execution_count": 24,
   "metadata": {},
   "outputs": [
    {
     "data": {
      "text/html": [
       "<div>\n",
       "<style scoped>\n",
       "    .dataframe tbody tr th:only-of-type {\n",
       "        vertical-align: middle;\n",
       "    }\n",
       "\n",
       "    .dataframe tbody tr th {\n",
       "        vertical-align: top;\n",
       "    }\n",
       "\n",
       "    .dataframe thead th {\n",
       "        text-align: right;\n",
       "    }\n",
       "</style>\n",
       "<table border=\"1\" class=\"dataframe\">\n",
       "  <thead>\n",
       "    <tr style=\"text-align: right;\">\n",
       "      <th></th>\n",
       "      <th>label</th>\n",
       "      <th>tagged_in_context</th>\n",
       "    </tr>\n",
       "  </thead>\n",
       "  <tbody>\n",
       "    <tr>\n",
       "      <th>0</th>\n",
       "      <td>not_propaganda</td>\n",
       "      <td>according to a UN estimate.</td>\n",
       "    </tr>\n",
       "    <tr>\n",
       "      <th>1</th>\n",
       "      <td>causal_oversimplification</td>\n",
       "      <td>the country would not last long without an ou...</td>\n",
       "    </tr>\n",
       "    <tr>\n",
       "      <th>2</th>\n",
       "      <td>appeal_to_fear_prejudice</td>\n",
       "      <td>gets Earl Warren and Sen. Richard Russel to j...</td>\n",
       "    </tr>\n",
       "    <tr>\n",
       "      <th>3</th>\n",
       "      <td>not_propaganda</td>\n",
       "      <td>You</td>\n",
       "    </tr>\n",
       "    <tr>\n",
       "      <th>4</th>\n",
       "      <td>repetition</td>\n",
       "      <td>infidels</td>\n",
       "    </tr>\n",
       "    <tr>\n",
       "      <th>5</th>\n",
       "      <td>name_calling,labeling</td>\n",
       "      <td>the \"gay lifestyle</td>\n",
       "    </tr>\n",
       "    <tr>\n",
       "      <th>6</th>\n",
       "      <td>loaded_language</td>\n",
       "      <td>devastating communities</td>\n",
       "    </tr>\n",
       "    <tr>\n",
       "      <th>7</th>\n",
       "      <td>not_propaganda</td>\n",
       "      <td>Jacob</td>\n",
       "    </tr>\n",
       "    <tr>\n",
       "      <th>8</th>\n",
       "      <td>flag_waving</td>\n",
       "      <td>Iran’s long rap sheet of aggression against A...</td>\n",
       "    </tr>\n",
       "    <tr>\n",
       "      <th>9</th>\n",
       "      <td>doubt</td>\n",
       "      <td>Now, the pope’s reply to my testimony was: “I...</td>\n",
       "    </tr>\n",
       "  </tbody>\n",
       "</table>\n",
       "</div>"
      ],
      "text/plain": [
       "                       label  \\\n",
       "0             not_propaganda   \n",
       "1  causal_oversimplification   \n",
       "2   appeal_to_fear_prejudice   \n",
       "3             not_propaganda   \n",
       "4                 repetition   \n",
       "5      name_calling,labeling   \n",
       "6            loaded_language   \n",
       "7             not_propaganda   \n",
       "8                flag_waving   \n",
       "9                      doubt   \n",
       "\n",
       "                                   tagged_in_context  \n",
       "0                       according to a UN estimate.   \n",
       "1   the country would not last long without an ou...  \n",
       "2   gets Earl Warren and Sen. Richard Russel to j...  \n",
       "3                                               You   \n",
       "4                                          infidels   \n",
       "5                                the \"gay lifestyle   \n",
       "6                           devastating communities   \n",
       "7                                             Jacob   \n",
       "8   Iran’s long rap sheet of aggression against A...  \n",
       "9   Now, the pope’s reply to my testimony was: “I...  "
      ]
     },
     "execution_count": 24,
     "metadata": {},
     "output_type": "execute_result"
    }
   ],
   "source": [
    "def replace_tokens(sentences):\n",
    "    start_sent=sentences.split(\"<BOS>\")\n",
    "    end_sent=start_sent[1].split(\"<EOS>\")\n",
    "    return end_sent[0]\n",
    "\n",
    "testdf[\"tagged_in_context\"]=testdf[\"tagged_in_context\"].map(replace_tokens)\n",
    "traindf[\"tagged_in_context\"]=traindf[\"tagged_in_context\"].map(replace_tokens)\n",
    "\n",
    "testdf.head(10)"
   ]
  },
  {
   "cell_type": "code",
   "execution_count": 25,
   "metadata": {},
   "outputs": [
    {
     "data": {
      "text/plain": [
       "not_propaganda               1191\n",
       "exaggeration,minimisation     164\n",
       "causal_oversimplification     158\n",
       "name_calling,labeling         157\n",
       "loaded_language               154\n",
       "appeal_to_fear_prejudice      151\n",
       "flag_waving                   148\n",
       "repetition                    147\n",
       "doubt                         144\n",
       "Name: label, dtype: int64"
      ]
     },
     "execution_count": 25,
     "metadata": {},
     "output_type": "execute_result"
    }
   ],
   "source": [
    "traindf[\"label\"].value_counts(dropna=False)"
   ]
  },
  {
   "cell_type": "code",
   "execution_count": 26,
   "metadata": {},
   "outputs": [],
   "source": [
    "def replace_tokens_multiclass(label):\n",
    "    if label==\"flag_waving\":\n",
    "        return 0\n",
    "    elif label==\"appeal_to_fear_prejudice\":\n",
    "        return 1\n",
    "    elif label==\"causal_oversimplification\":\n",
    "        return 2\n",
    "    elif label ==\"doubt\":\n",
    "        return 3\n",
    "    elif label == \"exaggeration,minimisation\":\n",
    "        return 4\n",
    "    elif label == \"loaded_language\":\n",
    "        return 5\n",
    "    elif label == \"name_calling,labeling\":\n",
    "        return 6\n",
    "    elif label == \"repetition\":\n",
    "        return 7\n",
    "     \n",
    "#drop rows with no propanganda\n",
    "\n",
    "testdf=testdf[testdf.label != \"not_propaganda\"]\n",
    "traindf = traindf[traindf.label != \"not_propaganda\"]\n",
    "\n",
    "traindf[\"label\"] = traindf[\"label\"].map(replace_tokens_multiclass)\n",
    "testdf[\"label\"] = testdf[\"label\"].map(replace_tokens_multiclass)\n",
    "\n",
    "traindf.reset_index(inplace=True)\n",
    "testdf.reset_index(inplace = True)"
   ]
  },
  {
   "cell_type": "code",
   "execution_count": 27,
   "metadata": {},
   "outputs": [
    {
     "data": {
      "text/plain": [
       "4    164\n",
       "2    158\n",
       "6    157\n",
       "5    154\n",
       "1    151\n",
       "0    148\n",
       "7    147\n",
       "3    144\n",
       "Name: label, dtype: int64"
      ]
     },
     "execution_count": 27,
     "metadata": {},
     "output_type": "execute_result"
    }
   ],
   "source": [
    "traindf[\"label\"].value_counts(dropna=False)"
   ]
  },
  {
   "cell_type": "code",
   "execution_count": 28,
   "metadata": {},
   "outputs": [],
   "source": [
    "from keras.utils import to_categorical\n",
    "y_train = to_categorical(traindf[\"label\"])\n",
    "y_test = to_categorical(testdf[\"label\"])\n"
   ]
  },
  {
   "cell_type": "code",
   "execution_count": 29,
   "metadata": {},
   "outputs": [],
   "source": [
    "from keras.preprocessing.text import Tokenizer\n",
    "no_words=10000\n",
    "tokenizer=Tokenizer(num_words=no_words,lower=True)"
   ]
  },
  {
   "cell_type": "code",
   "execution_count": 30,
   "metadata": {},
   "outputs": [],
   "source": [
    "mes = []\n",
    "for i in traindf['tagged_in_context']:\n",
    "    mes.append(i.split())\n",
    "for i in testdf['tagged_in_context']:\n",
    "    mes.append(i.split())"
   ]
  },
  {
   "cell_type": "code",
   "execution_count": 31,
   "metadata": {},
   "outputs": [],
   "source": [
    "tokenizer.fit_on_texts(mes)"
   ]
  },
  {
   "cell_type": "code",
   "execution_count": 32,
   "metadata": {},
   "outputs": [],
   "source": [
    "X_train=tokenizer.texts_to_sequences(traindf[\"tagged_in_context\"]) # this converts texts into some numeric sequences \n",
    "X_train_pad=pad_sequences(X_train,maxlen=140,padding='post') # this makes the length of all numeric sequences equal \n",
    "X_test = tokenizer.texts_to_sequences(testdf[\"tagged_in_context\"])\n",
    "X_test_pad = pad_sequences(X_test, maxlen = 140, padding = 'post')\n"
   ]
  },
  {
   "cell_type": "code",
   "execution_count": 33,
   "metadata": {},
   "outputs": [],
   "source": [
    "import gensim.downloader as api\n",
    "glove_gensim  = api.load('glove-wiki-gigaword-100')"
   ]
  },
  {
   "cell_type": "code",
   "execution_count": 34,
   "metadata": {},
   "outputs": [],
   "source": [
    "vector_size = 100\n",
    "gensim_weight_matrix = np.zeros((no_words ,vector_size))\n",
    "gensim_weight_matrix.shape\n",
    "words = list(glove_gensim.key_to_index.keys())\n",
    "for word, index in tokenizer.word_index.items():\n",
    "    if index < no_words: # since index starts with zero \n",
    "        if word in  words:\n",
    "            gensim_weight_matrix[index] = glove_gensim[word]\n",
    "        else:\n",
    "            gensim_weight_matrix[index] = np.zeros(100)"
   ]
  },
  {
   "cell_type": "code",
   "execution_count": 35,
   "metadata": {},
   "outputs": [],
   "source": [
    "import tensorflow as tf\n",
    "from keras.datasets import imdb\n",
    "from keras.models import Sequential\n",
    "from keras.layers import Dense\n",
    "from keras.layers import LSTM\n",
    "from keras.layers import Bidirectional\n",
    "from keras.layers import Embedding\n",
    "from keras.preprocessing import sequence"
   ]
  },
  {
   "cell_type": "code",
   "execution_count": 36,
   "metadata": {},
   "outputs": [],
   "source": [
    "EMBEDDING_DIM = 100\n",
    "class_num = 8\n",
    "model = Sequential()\n",
    "model.add(Embedding(input_dim = no_words,\n",
    " output_dim = EMBEDDING_DIM,\n",
    " input_length= X_train_pad.shape[1],\n",
    " weights = [gensim_weight_matrix],trainable = False))\n",
    "\n",
    "# model.add(Bidirectional(LSTM(100, dropout=0.2, recurrent_dropout=0.2,return_sequences=True)))\n",
    "model.add(Bidirectional(LSTM(100,return_sequences=True)))\n",
    "model.add(Dropout(0.2))\n",
    "model.add(Bidirectional(LSTM(200,return_sequences=True)))\n",
    "model.add(Dropout(0.2))\n",
    "model.add(Bidirectional(LSTM(200,return_sequences=False)))\n",
    "model.add(Dense(class_num, activation = \"softmax\"))\n",
    "model.compile(loss = \"categorical_crossentropy\", optimizer = \"adam\",metrics = \"accuracy\")\n",
    "\n",
    "# model = Sequential()\n",
    "# model.add(Embedding(input_dim = no_words,\n",
    "#  output_dim = EMBEDDING_DIM,\n",
    "#  input_length= X_train_pad.shape[1],\n",
    "#  weights = [gensim_weight_matrix],trainable = False))\n",
    "# model.add(Bidirectional(LSTM(100, dropout=0.2, recurrent_dropout=0.2)))\n",
    "# model.add(Dense(1, activation='softmax'))\n",
    "# model.compile(loss=\"sparse_categorical_crossentropy\", optimizer='adam', metrics=['accuracy'])\n",
    "# print(model.summary())\n",
    "\n"
   ]
  },
  {
   "cell_type": "code",
   "execution_count": 37,
   "metadata": {},
   "outputs": [],
   "source": [
    "# EarlyStopping and ModelCheckpoint\n",
    "from keras.callbacks import EarlyStopping, ModelCheckpoint\n",
    "es = EarlyStopping(monitor = 'val_loss', mode = 'min', verbose = 1, patience = 5)\n",
    "mc = ModelCheckpoint('./model.h5', monitor = 'val_accuracy', mode = 'max', verbose = 1, save_best_only = True)"
   ]
  },
  {
   "cell_type": "code",
   "execution_count": 38,
   "metadata": {},
   "outputs": [
    {
     "name": "stdout",
     "output_type": "stream",
     "text": [
      "Epoch 1/25\n",
      "11/11 [==============================] - ETA: 0s - loss: 1.9364 - accuracy: 0.2281\n",
      "Epoch 1: val_accuracy improved from -inf to 0.24731, saving model to ./model.h5\n",
      "11/11 [==============================] - 19s 1s/step - loss: 1.9364 - accuracy: 0.2281 - val_loss: 1.8036 - val_accuracy: 0.2473\n",
      "Epoch 2/25\n",
      "11/11 [==============================] - ETA: 0s - loss: 1.7461 - accuracy: 0.3001\n",
      "Epoch 2: val_accuracy did not improve from 0.24731\n",
      "11/11 [==============================] - 14s 1s/step - loss: 1.7461 - accuracy: 0.3001 - val_loss: 1.7861 - val_accuracy: 0.2330\n",
      "Epoch 3/25\n",
      "11/11 [==============================] - ETA: 0s - loss: 1.6436 - accuracy: 0.3524\n",
      "Epoch 3: val_accuracy improved from 0.24731 to 0.32258, saving model to ./model.h5\n",
      "11/11 [==============================] - 13s 1s/step - loss: 1.6436 - accuracy: 0.3524 - val_loss: 1.6581 - val_accuracy: 0.3226\n",
      "Epoch 4/25\n",
      "11/11 [==============================] - ETA: 0s - loss: 1.4343 - accuracy: 0.4481\n",
      "Epoch 4: val_accuracy improved from 0.32258 to 0.39427, saving model to ./model.h5\n",
      "11/11 [==============================] - 13s 1s/step - loss: 1.4343 - accuracy: 0.4481 - val_loss: 1.5877 - val_accuracy: 0.3943\n",
      "Epoch 5/25\n",
      "11/11 [==============================] - ETA: 0s - loss: 1.3277 - accuracy: 0.4898\n",
      "Epoch 5: val_accuracy improved from 0.39427 to 0.42294, saving model to ./model.h5\n",
      "11/11 [==============================] - 14s 1s/step - loss: 1.3277 - accuracy: 0.4898 - val_loss: 1.5529 - val_accuracy: 0.4229\n",
      "Epoch 6/25\n",
      "11/11 [==============================] - ETA: 0s - loss: 1.2224 - accuracy: 0.5429\n",
      "Epoch 6: val_accuracy did not improve from 0.42294\n",
      "11/11 [==============================] - 16s 1s/step - loss: 1.2224 - accuracy: 0.5429 - val_loss: 1.5476 - val_accuracy: 0.4158\n",
      "Epoch 7/25\n",
      "11/11 [==============================] - ETA: 0s - loss: 1.1856 - accuracy: 0.5593\n",
      "Epoch 7: val_accuracy improved from 0.42294 to 0.44444, saving model to ./model.h5\n",
      "11/11 [==============================] - 13s 1s/step - loss: 1.1856 - accuracy: 0.5593 - val_loss: 1.5569 - val_accuracy: 0.4444\n",
      "Epoch 8/25\n",
      "11/11 [==============================] - ETA: 0s - loss: 1.0890 - accuracy: 0.6034\n",
      "Epoch 8: val_accuracy did not improve from 0.44444\n",
      "11/11 [==============================] - 14s 1s/step - loss: 1.0890 - accuracy: 0.6034 - val_loss: 1.5899 - val_accuracy: 0.4337\n",
      "Epoch 9/25\n",
      "11/11 [==============================] - ETA: 0s - loss: 1.0280 - accuracy: 0.6271\n",
      "Epoch 9: val_accuracy did not improve from 0.44444\n",
      "11/11 [==============================] - 14s 1s/step - loss: 1.0280 - accuracy: 0.6271 - val_loss: 1.6113 - val_accuracy: 0.4265\n",
      "Epoch 10/25\n",
      "11/11 [==============================] - ETA: 0s - loss: 0.9166 - accuracy: 0.6754\n",
      "Epoch 10: val_accuracy improved from 0.44444 to 0.45520, saving model to ./model.h5\n",
      "11/11 [==============================] - 14s 1s/step - loss: 0.9166 - accuracy: 0.6754 - val_loss: 1.6001 - val_accuracy: 0.4552\n",
      "Epoch 11/25\n",
      "11/11 [==============================] - ETA: 0s - loss: 0.9333 - accuracy: 0.6623\n",
      "Epoch 11: val_accuracy did not improve from 0.45520\n",
      "11/11 [==============================] - 13s 1s/step - loss: 0.9333 - accuracy: 0.6623 - val_loss: 1.7155 - val_accuracy: 0.4158\n",
      "Epoch 11: early stopping\n"
     ]
    }
   ],
   "source": [
    "history_embedding = model.fit(X_train_pad, y_train, \n",
    "                                epochs = 25, batch_size = 120, \n",
    "                                validation_data=(X_test_pad, y_test),\n",
    "                                verbose = 1, callbacks= [es, mc]  )"
   ]
  },
  {
   "cell_type": "code",
   "execution_count": 39,
   "metadata": {},
   "outputs": [
    {
     "name": "stdout",
     "output_type": "stream",
     "text": [
      "9/9 [==============================] - 2s 155ms/step\n"
     ]
    }
   ],
   "source": [
    "y_prediction = model.predict(X_test_pad)\n",
    "y_prediction\n",
    "threshold=0.5\n",
    "multi_labels = np.where(y_prediction >= threshold, 1, 0)\n"
   ]
  },
  {
   "cell_type": "code",
   "execution_count": 42,
   "metadata": {},
   "outputs": [
    {
     "name": "stdout",
     "output_type": "stream",
     "text": [
      "9/9 [==============================] - 1s 145ms/step\n",
      "Accuracy:  0.3118279569892473\n",
      "Precision:  0.4829527868098953\n",
      "Recall:  0.31536324069860416\n",
      "F1 Score:  0.3676408227643537\n"
     ]
    }
   ],
   "source": [
    "y_prediction = model.predict(X_test_pad)\n",
    "y_predict = np.argmax (y_prediction, axis = 1)\n",
    "from sklearn.metrics import accuracy_score, precision_score, recall_score, f1_score\n",
    "print(\"Accuracy: \", accuracy_score(y_test, multi_labels))\n",
    "print(\"Precision: \", precision_score(y_test, multi_labels, average='macro'))\n",
    "print(\"Recall: \", recall_score(y_test, multi_labels, average='macro'))\n",
    "print(\"F1 Score: \", f1_score(y_test,multi_labels, average='macro'))\n"
   ]
  },
  {
   "cell_type": "code",
   "execution_count": 44,
   "metadata": {},
   "outputs": [
    {
     "name": "stdout",
     "output_type": "stream",
     "text": [
      "Collecting matplotlib\n",
      "  Downloading matplotlib-3.7.1-cp39-cp39-macosx_10_12_x86_64.whl (7.4 MB)\n",
      "\u001b[2K     \u001b[90m━━━━━━━━━━━━━━━━━━━━━━━━━━━━━━━━━━━━━━━━\u001b[0m \u001b[32m7.4/7.4 MB\u001b[0m \u001b[31m4.1 MB/s\u001b[0m eta \u001b[36m0:00:00\u001b[0m00:01\u001b[0m00:01\u001b[0m\n",
      "\u001b[?25hCollecting contourpy>=1.0.1\n",
      "  Downloading contourpy-1.0.7-cp39-cp39-macosx_10_9_x86_64.whl (244 kB)\n",
      "\u001b[2K     \u001b[90m━━━━━━━━━━━━━━━━━━━━━━━━━━━━━━━━━━━━━━━\u001b[0m \u001b[32m244.3/244.3 kB\u001b[0m \u001b[31m4.5 MB/s\u001b[0m eta \u001b[36m0:00:00\u001b[0ma \u001b[36m0:00:01\u001b[0m\n",
      "\u001b[?25hRequirement already satisfied: python-dateutil>=2.7 in /opt/anaconda3/envs/tensor/lib/python3.9/site-packages (from matplotlib) (2.8.2)\n",
      "Collecting pyparsing>=2.3.1\n",
      "  Downloading pyparsing-3.0.9-py3-none-any.whl (98 kB)\n",
      "\u001b[2K     \u001b[90m━━━━━━━━━━━━━━━━━━━━━━━━━━━━━━━━━━━━━━━━\u001b[0m \u001b[32m98.3/98.3 kB\u001b[0m \u001b[31m3.5 MB/s\u001b[0m eta \u001b[36m0:00:00\u001b[0m\n",
      "\u001b[?25hRequirement already satisfied: numpy>=1.20 in /opt/anaconda3/envs/tensor/lib/python3.9/site-packages (from matplotlib) (1.24.3)\n",
      "Requirement already satisfied: pillow>=6.2.0 in /opt/anaconda3/envs/tensor/lib/python3.9/site-packages (from matplotlib) (9.5.0)\n",
      "Collecting cycler>=0.10\n",
      "  Downloading cycler-0.11.0-py3-none-any.whl (6.4 kB)\n",
      "Collecting importlib-resources>=3.2.0\n",
      "  Downloading importlib_resources-5.12.0-py3-none-any.whl (36 kB)\n",
      "Collecting fonttools>=4.22.0\n",
      "  Downloading fonttools-4.39.3-py3-none-any.whl (1.0 MB)\n",
      "\u001b[2K     \u001b[90m━━━━━━━━━━━━━━━━━━━━━━━━━━━━━━━━━━━━━━━━\u001b[0m \u001b[32m1.0/1.0 MB\u001b[0m \u001b[31m4.4 MB/s\u001b[0m eta \u001b[36m0:00:00\u001b[0ma \u001b[36m0:00:01\u001b[0m\n",
      "\u001b[?25hCollecting kiwisolver>=1.0.1\n",
      "  Downloading kiwisolver-1.4.4-cp39-cp39-macosx_10_9_x86_64.whl (65 kB)\n",
      "\u001b[2K     \u001b[90m━━━━━━━━━━━━━━━━━━━━━━━━━━━━━━━━━━━━━━━━\u001b[0m \u001b[32m65.5/65.5 kB\u001b[0m \u001b[31m4.3 MB/s\u001b[0m eta \u001b[36m0:00:00\u001b[0m\n",
      "\u001b[?25hRequirement already satisfied: packaging>=20.0 in /opt/anaconda3/envs/tensor/lib/python3.9/site-packages (from matplotlib) (23.0)\n",
      "Requirement already satisfied: zipp>=3.1.0 in /opt/anaconda3/envs/tensor/lib/python3.9/site-packages (from importlib-resources>=3.2.0->matplotlib) (3.11.0)\n",
      "Requirement already satisfied: six>=1.5 in /opt/anaconda3/envs/tensor/lib/python3.9/site-packages (from python-dateutil>=2.7->matplotlib) (1.16.0)\n",
      "Installing collected packages: pyparsing, kiwisolver, importlib-resources, fonttools, cycler, contourpy, matplotlib\n",
      "Successfully installed contourpy-1.0.7 cycler-0.11.0 fonttools-4.39.3 importlib-resources-5.12.0 kiwisolver-1.4.4 matplotlib-3.7.1 pyparsing-3.0.9\n",
      "Note: you may need to restart the kernel to use updated packages.\n"
     ]
    }
   ],
   "source": [
    "pip install matplotlib"
   ]
  },
  {
   "cell_type": "code",
   "execution_count": 45,
   "metadata": {},
   "outputs": [
    {
     "data": {
      "image/png": "[encoded data removed]",
      "text/plain": [
       "<Figure size 640x480 with 1 Axes>"
      ]
     },
     "metadata": {},
     "output_type": "display_data"
    }
   ],
   "source": [
    "import matplotlib.pyplot as plt\n",
    "plt.plot(history_embedding.history['accuracy'],c='b',label='train accuracy')\n",
    "plt.plot(history_embedding.history['val_accuracy'],c='r',label='validation accuracy')\n",
    "plt.legend(loc='lower right')\n",
    "plt.show()"
   ]
  },
  {
   "cell_type": "code",
   "execution_count": 46,
   "metadata": {},
   "outputs": [
    {
     "name": "stdout",
     "output_type": "stream",
     "text": [
      "9/9 [==============================] - 1s 148ms/step\n",
      "              precision    recall  f1-score   support\n",
      "\n",
      "           0       0.38      0.68      0.49        22\n",
      "           1       0.30      0.59      0.40        22\n",
      "           2       0.26      0.26      0.26        31\n",
      "           3       0.50      0.37      0.43        51\n",
      "           4       0.50      0.27      0.35        52\n",
      "           5       0.54      0.53      0.53        38\n",
      "           6       0.55      0.46      0.50        37\n",
      "           7       0.31      0.38      0.34        26\n",
      "\n",
      "    accuracy                           0.42       279\n",
      "   macro avg       0.42      0.44      0.41       279\n",
      "weighted avg       0.44      0.42      0.41       279\n",
      "\n"
     ]
    }
   ],
   "source": [
    "y_pred =   np.argmax(model.predict(X_test_pad), axis  =  1)\n",
    "y_true = np.argmax(y_test, axis = 1)\n",
    "from sklearn import metrics\n",
    "print(metrics.classification_report(y_pred, y_true))"
   ]
  },
  {
   "cell_type": "code",
   "execution_count": null,
   "metadata": {},
   "outputs": [],
   "source": []
  }
 ],
 "metadata": {
  "kernelspec": {
   "display_name": "Python 3 (ipykernel)",
   "language": "python",
   "name": "python3"
  },
  "language_info": {
   "codemirror_mode": {
    "name": "ipython",
    "version": 3
   },
   "file_extension": ".py",
   "mimetype": "text/x-python",
   "name": "python",
   "nbconvert_exporter": "python",
   "pygments_lexer": "ipython3",
   "version": "3.9.16"
  }
 },
 "nbformat": 4,
 "nbformat_minor": 2
}
